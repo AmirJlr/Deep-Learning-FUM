{
 "cells": [
  {
   "cell_type": "markdown",
   "source": [
    "## From layers to models :\n",
    "\n",
    "### The “compile” step: Configuring the learning process :\n",
    "\n",
    "#### Once the model architecture is defined, you still have to choose three more things:\n",
    "\n",
    "- #### `Loss function (objective function)`—The quantity that will be minimized during training. It represents a measure of success for the task at hand.\n",
    "\n",
    "- #### `Optimizer`—Determines how the network will be updated based on the loss function. It implements a specific variant of stochastic gradient descent (SGD).\n",
    "\n",
    "- #### `Metrics`—The measures of success you want to monitor during training and validation, such as classification accuracy. Unlike the loss, training will not optimize directly for these metrics.\n",
    "\n",
    "\n",
    "### Optimizers:\n",
    "- ##### SGD (with or without momentum)\n",
    "- ##### RMSprop\n",
    "- ##### Adam\n",
    "- ##### Adagrad\n",
    "- ##### Etc.\n",
    "\n",
    "### Losses:\n",
    "- ##### CategoricalCrossentropy\n",
    "- ##### SparseCategoricalCrossentropy\n",
    "- ##### BinaryCrossentropy\n",
    "- ##### MeanSquaredError\n",
    "- ##### KLDivergence\n",
    "- ##### CosineSimilarity\n",
    "- ##### Etc.\n",
    "\n",
    "### Metrics:\n",
    "- ##### CategoricalAccuracy\n",
    "- ##### SparseCategoricalAccuracy\n",
    "- ##### BinaryAccuracy\n",
    "- ##### AUC\n",
    "- ##### Precision\n",
    "- ##### Recall\n",
    "- ##### Etc.\n",
    "\n",
    "## Understanding the fit() method :\n",
    "### The fit() method implements the `training loop` itself. These are its key arguments:\n",
    "\n",
    "- #### The data (inputs and targets) to train on.\n",
    "- #### The number of epochs to train for.\n",
    "- #### The batch size to use within each epoch of mini-batch gradient descent: the number of training examples considered to compute the gradients for one weight update step.\n",
    "\n",
    "### Inference: Using a model after training :\n",
    "#### Once you’ve trained your model, you’re going to want to use it to make predictions on new data. This is called inference.\n",
    "\n",
    "#### A better way to do inference is to use the `predict()` method. It will iterate over the data in small batches and return a NumPy array of predictions.\n"
   ],
   "metadata": {
    "collapsed": false,
    "pycharm": {
     "name": "#%% md\n"
    }
   }
  },
  {
   "cell_type": "code",
   "execution_count": null,
   "metadata": {
    "collapsed": true,
    "pycharm": {
     "name": "#%%\n"
    }
   },
   "outputs": [],
   "source": [
    "###"
   ]
  }
 ],
 "metadata": {
  "kernelspec": {
   "display_name": "Python 3",
   "language": "python",
   "name": "python3"
  },
  "language_info": {
   "codemirror_mode": {
    "name": "ipython",
    "version": 2
   },
   "file_extension": ".py",
   "mimetype": "text/x-python",
   "name": "python",
   "nbconvert_exporter": "python",
   "pygments_lexer": "ipython2",
   "version": "2.7.6"
  }
 },
 "nbformat": 4,
 "nbformat_minor": 0
}