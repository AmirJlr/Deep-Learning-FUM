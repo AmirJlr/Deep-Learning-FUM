{
 "cells": [
  {
   "cell_type": "markdown",
   "source": [
    "### The fundamental data structure in neural networks is the `layer`\n",
    "\n",
    "### A layer is a data processing module that takes as input one or more tensors and that outputs one or more tensors.\n",
    "\n",
    "- #### simple vector data, stored in rank-2 tensors of shape (samples, features), is often processed by densely connected layers.\n",
    "\n",
    "- #### Sequence data, stored in rank-3 tensors of shape (samples, timesteps, features), is typically processed by recurrent layers, such as an LSTM layer, or 1D convolution layers (Conv1D).\n",
    "\n",
    "- #### Image data, stored in rank-4 tensors, is usually processed by 2D convolution layers (Conv2D).\n",
    "\n",
    "\n",
    "#### A Layer is an object that encapsulates some state (weights) and some computation (a forward pass). The `weights` are typically defined in a `build()` (although they could also be created in the constructor, `__init__())`, and the computation is defined in the `call()` method.\n",
    "\n",
    "\n",
    "### Dense layer implementation :\n",
    "\n"
   ],
   "metadata": {
    "collapsed": false,
    "pycharm": {
     "name": "#%% md\n"
    }
   }
  },
  {
   "cell_type": "code",
   "execution_count": 1,
   "outputs": [],
   "source": [
    "from tensorflow import keras\n",
    "import tensorflow as tf"
   ],
   "metadata": {
    "collapsed": false,
    "pycharm": {
     "name": "#%%\n"
    }
   }
  },
  {
   "cell_type": "code",
   "execution_count": 2,
   "outputs": [],
   "source": [
    "### A Dense layer implemented as a Layer subclass ###\n",
    "\n",
    "class DenceLayer(keras.layers.Layer):\n",
    "    def __init__(self, units, activation=None):\n",
    "        super(DenceLayer, self).__init__()\n",
    "        self.units = units\n",
    "        self.activation = activation\n",
    "\n",
    "    # AUTOMATIC SHAPE INFERENCE: BUILDING LAYERS ON THE FLY\n",
    "    def build(self, input_shape):\n",
    "        input_dim = input_shape[-1]\n",
    "        self.W = self.add_weight(shape=(input_dim, self.units), initializer='random_normal')\n",
    "\n",
    "        self.B = self.add_weight(shape=(self.units,), initializer='zeros')\n",
    "\n",
    "    def call(self, inputs):\n",
    "        y = tf.matmul(inputs, self.W) + self.B\n",
    "        if self.activation is not None:\n",
    "            y = self.activation(y)\n",
    "        return y\n",
    "\n"
   ],
   "metadata": {
    "collapsed": false,
    "pycharm": {
     "name": "#%%\n"
    }
   }
  },
  {
   "cell_type": "markdown",
   "source": [
    "###  AUTOMATIC SHAPE INFERENCE: BUILDING LAYERS ON THE FLY:\n",
    "\n",
    "#### The layers didn’t receive any information about the shape of their inputs—instead, they automatically inferred their input shape as being the shape of the first inputs they see.\n",
    "\n",
    "#### The `build()` method is called automatically the first time the layer is called (via its  `__call__()` method)"
   ],
   "metadata": {
    "collapsed": false,
    "pycharm": {
     "name": "#%% md\n"
    }
   }
  },
  {
   "cell_type": "code",
   "execution_count": 3,
   "metadata": {
    "collapsed": true,
    "pycharm": {
     "name": "#%%\n"
    }
   },
   "outputs": [
    {
     "data": {
      "text/plain": "TensorShape([8, 64])"
     },
     "execution_count": 3,
     "metadata": {},
     "output_type": "execute_result"
    }
   ],
   "source": [
    "my_dence = DenceLayer(units=64, activation=tf.nn.relu)\n",
    "input_tensor = tf.random.uniform(shape=(8, 256))\n",
    "\n",
    "output_tensor = my_dence(input_tensor)\n",
    "output_tensor.shape"
   ]
  },
  {
   "cell_type": "code",
   "execution_count": null,
   "outputs": [],
   "source": [],
   "metadata": {
    "collapsed": false,
    "pycharm": {
     "name": "#%%\n"
    }
   }
  }
 ],
 "metadata": {
  "kernelspec": {
   "display_name": "Python 3",
   "language": "python",
   "name": "python3"
  },
  "language_info": {
   "codemirror_mode": {
    "name": "ipython",
    "version": 2
   },
   "file_extension": ".py",
   "mimetype": "text/x-python",
   "name": "python",
   "nbconvert_exporter": "python",
   "pygments_lexer": "ipython2",
   "version": "2.7.6"
  }
 },
 "nbformat": 4,
 "nbformat_minor": 0
}